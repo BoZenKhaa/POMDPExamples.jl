{
 "cells": [
  {
   "cell_type": "markdown",
   "metadata": {},
   "source": [
    "# Reinforcement Learning Tutorial for POMDPs.jl\n",
    "\n",
    "*inspired from Stanford Reinforcement Learning class*"
   ]
  },
  {
   "cell_type": "markdown",
   "metadata": {},
   "source": [
    "## Dependencies\n",
    "You need to install a few modules in order to use this notebook. If you have all the modules below installed, great! If not run the following commands:"
   ]
  },
  {
   "cell_type": "code",
   "execution_count": null,
   "metadata": {},
   "outputs": [],
   "source": [
    "# install the POMDPs.jl interface\n",
    "Pkg.add(\"POMDPs\")\n",
    "\n",
    "using POMDPs\n",
    "\n",
    "# install the Tabular TD Learning solver\n",
    "POMDPs.add(\"TabularTDLearning\") \n",
    "\n",
    "# install a helper module\n",
    "POMDPs.add(\"POMDPToolbox\") # this provides support tools for simulations"
   ]
  },
  {
   "cell_type": "markdown",
   "metadata": {},
   "source": [
    "If you already have all of the modules above, make sure you have the most recent versions. Many of these are still under heavy development, so update before starting by running\n",
    "\n",
    "```julia\n",
    "Pkg.update()\n",
    "```"
   ]
  },
  {
   "cell_type": "code",
   "execution_count": 1,
   "metadata": {
    "collapsed": true
   },
   "outputs": [],
   "source": [
    "# first import the POMDPs.jl interface\n",
    "using POMDPs"
   ]
  },
  {
   "cell_type": "markdown",
   "metadata": {},
   "source": [
    "## Problem overview"
   ]
  },
  {
   "cell_type": "markdown",
   "metadata": {},
   "source": [
    "### Mars Exploration\n",
    "\n",
    "\n",
    "Let's consider a 1D gridworld and 2 different rewards at each extremities. \n",
    "\n",
    "![wall-e-mdp](initial_state.png)\n",
    "\n",
    "The environment can be modeled as follow\n",
    "\n",
    "- 10 states: 1,2,3,4,5,6,7,8,9,10\n",
    "- 2 actions: left, right\n",
    "- one episode lasts until a reward is found\n",
    "- there is a reward of +1 in state 1 (Eve) and +2 in state 10 (the plant)\n",
    "- Wall-E starts at 3\n",
    "\n",
    "# Implementation\n",
    "\n",
    "Let's start by defining a type containing all the problem parameters. In Reinforcement Learning, problems are usually framed as Markov decision processes (MDP). Our new problem must then be defined as a subtype of the abstract type `MDP{S,A}` where `S`and `A` are the state type and the action type respectively.\n",
    "For more information about MDPs please refer to this [MDP tutorial](../GridWorld.ipynb)."
   ]
  },
  {
   "cell_type": "code",
   "execution_count": 2,
   "metadata": {
    "collapsed": true
   },
   "outputs": [],
   "source": [
    "mutable struct MarsExp <: MDP{Int64, Symbol}\n",
    "    r_left::Float64\n",
    "    r_right::Float64\n",
    "    start::Int64\n",
    "    γ::Float64\n",
    "    MarsExp(;r_left::Float64 = 1., r_right::Float64 = 10.,start::Int64 = 5, γ::Float64 = 0.5) = new(r_left, r_right, start, γ)\n",
    "end"
   ]
  },
  {
   "cell_type": "markdown",
   "metadata": {},
   "source": [
    "**State Space**\n",
    "\n",
    "In this tutorial we consider a discrete environment. We can enumerate all the states and provide an indexing function."
   ]
  },
  {
   "cell_type": "code",
   "execution_count": 3,
   "metadata": {
    "collapsed": true
   },
   "outputs": [],
   "source": [
    "function POMDPs.states(mdp::MarsExp)\n",
    "    return 1:1:10\n",
    "end\n",
    "POMDPs.state_index(mdp::MarsExp, s::Int64) = s\n",
    "POMDPs.n_states(mdp::MarsExp) = 10"
   ]
  },
  {
   "cell_type": "markdown",
   "metadata": {},
   "source": [
    "**Action Space**\n",
    "\n",
    "The action space is discrete and consists of only two actions: moving left or right. Again, we can enumerate and index the actions."
   ]
  },
  {
   "cell_type": "code",
   "execution_count": 4,
   "metadata": {
    "collapsed": true
   },
   "outputs": [],
   "source": [
    "function POMDPs.actions(mdp::MarsExp)\n",
    "    return [:left, :right]\n",
    "end\n",
    "POMDPs.action_index(mdp::MarsExp, a::Symbol) = a == :left ? 1 : 2\n",
    "POMDPs.n_actions(mdp::MarsExp) = 2"
   ]
  },
  {
   "cell_type": "markdown",
   "metadata": {},
   "source": [
    "**Generative Model**\n",
    "\n",
    "In Reinforcement Learning problems, we do not assume prior knowledge on the environment. The agent learns the policy as it interacts with the environment. As a consequence all we need to provide is a generative model that allows to transition from one state to another. In addition we must define a reward function."
   ]
  },
  {
   "cell_type": "code",
   "execution_count": 5,
   "metadata": {
    "collapsed": true
   },
   "outputs": [],
   "source": [
    "function POMDPs.generate_s(mdp::MarsExp, s::Int64, a::Symbol, rng::AbstractRNG)\n",
    "    if a == :left\n",
    "        return max(1, s-1)\n",
    "    elseif a == :right\n",
    "        return min(10, s+1)\n",
    "    end\n",
    "end\n",
    "function POMDPs.reward(mdp::MarsExp, s::Int64, a::Symbol, sp::Int64)\n",
    "    if sp == 1\n",
    "        return mdp.r_left\n",
    "    elseif sp == 10\n",
    "        return mdp.r_right\n",
    "    else\n",
    "        return 0.0\n",
    "    end\n",
    "end     "
   ]
  },
  {
   "cell_type": "markdown",
   "metadata": {},
   "source": [
    "**Note:** Instead of defining `generate_s`and `reward`, you can also define the function `generate_sr` that returns a tuple (next state, reward)."
   ]
  },
  {
   "cell_type": "markdown",
   "metadata": {},
   "source": [
    "**Initial states**\n",
    "\n",
    "In the proposed problem, the agent always arrives in the world at the state specified in the MDP type."
   ]
  },
  {
   "cell_type": "code",
   "execution_count": 6,
   "metadata": {
    "collapsed": true
   },
   "outputs": [],
   "source": [
    "function POMDPs.initial_state(mdp::MarsExp, rng::AbstractRNG)\n",
    "    return mdp.start \n",
    "end"
   ]
  },
  {
   "cell_type": "markdown",
   "metadata": {},
   "source": [
    "**Terminal states**\n",
    "\n",
    "Once a reward is found, the game is over."
   ]
  },
  {
   "cell_type": "code",
   "execution_count": 7,
   "metadata": {
    "collapsed": true
   },
   "outputs": [],
   "source": [
    "function POMDPs.isterminal(mdp::MarsExp, s::Int64)\n",
    "    return s == 1 || s == 10\n",
    "end"
   ]
  },
  {
   "cell_type": "markdown",
   "metadata": {},
   "source": [
    "**Discount Factor**\n",
    "\n",
    "The reward received is discounted by a multiplicative factor. "
   ]
  },
  {
   "cell_type": "code",
   "execution_count": 8,
   "metadata": {
    "collapsed": true
   },
   "outputs": [],
   "source": [
    "POMDPs.discount(mdp::MarsExp) = mdp.γ"
   ]
  },
  {
   "cell_type": "markdown",
   "metadata": {},
   "source": [
    "## Initialize the problem\n",
    "\n",
    "Let's generate an instance of the exploration problem. Here we set the start state on cell 4. Feel free to change this value as well as the rewards and the discount factor."
   ]
  },
  {
   "cell_type": "code",
   "execution_count": 9,
   "metadata": {},
   "outputs": [
    {
     "data": {
      "text/plain": [
       "MarsExp(1.0, 10.0, 4, 0.9)"
      ]
     },
     "execution_count": 9,
     "metadata": {},
     "output_type": "execute_result"
    }
   ],
   "source": [
    "mdp = MarsExp(start=4, γ=0.9) "
   ]
  },
  {
   "cell_type": "markdown",
   "metadata": {},
   "source": [
    "## Solve with Q-learning\n",
    "\n",
    "To solve the problem we can use the `TabularTDLearning` package which provides three model-free learning algorithms:\n",
    "- Q Learning\n",
    "- SARSA\n",
    "- SARSA $\\lambda$\n"
   ]
  },
  {
   "cell_type": "markdown",
   "metadata": {},
   "source": [
    "All the solvers requires to specify an exploration strategy. Some common strategies like epsilon greedy are implemented in th `POMDPToolbox` package."
   ]
  },
  {
   "cell_type": "code",
   "execution_count": 11,
   "metadata": {},
   "outputs": [
    {
     "name": "stderr",
     "output_type": "stream",
     "text": [
      "\u001b[1m\u001b[36mINFO: \u001b[39m\u001b[22m\u001b[36mRecompiling stale cache file C:\\Users\\Maxime\\.julia\\lib\\v0.6\\POMDPToolbox.ji for module POMDPToolbox.\n",
      "\u001b[39m"
     ]
    }
   ],
   "source": [
    "using TabularTDLearning, POMDPToolbox"
   ]
  },
  {
   "cell_type": "markdown",
   "metadata": {},
   "source": [
    "Let's check that we implemented all the functions required by the QLearning solver. This can be done via the `@requirements_info` macro. "
   ]
  },
  {
   "cell_type": "code",
   "execution_count": 12,
   "metadata": {},
   "outputs": [
    {
     "name": "stdout",
     "output_type": "stream",
     "text": [
      "\n",
      "INFO: POMDPs.jl requirements for \u001b[34msolve(::QLearningSolver, ::Union{POMDPs.MDP,POMDPs.POMDP})\u001b[39m and dependencies. ([✔] = implemented correctly; [X] = missing)\n",
      "\n",
      "For \u001b[34msolve(::QLearningSolver, ::Union{POMDPs.MDP,POMDPs.POMDP})\u001b[39m:\n",
      "\u001b[32m  [✔] initial_state(::MarsExp, ::AbstractRNG)\u001b[39m\n",
      "\u001b[32m  [✔] generate_sr(::MarsExp, ::Int64, ::Symbol, ::AbstractRNG)\u001b[39m\n",
      "\u001b[32m  [✔] state_index(::MarsExp, ::Int64)\u001b[39m\n",
      "\u001b[32m  [✔] n_states(::MarsExp)\u001b[39m\n",
      "\u001b[32m  [✔] n_actions(::MarsExp)\u001b[39m\n",
      "\u001b[32m  [✔] action_index(::MarsExp, ::Symbol)\u001b[39m\n",
      "\u001b[32m  [✔] discount(::MarsExp)\u001b[39m\n",
      "\n"
     ]
    },
    {
     "data": {
      "text/plain": [
       "true"
      ]
     },
     "execution_count": 12,
     "metadata": {},
     "output_type": "execute_result"
    }
   ],
   "source": [
    "@requirements_info QLearningSolver(MarsExp()) MarsExp()"
   ]
  },
  {
   "cell_type": "markdown",
   "metadata": {},
   "source": [
    "**Initialize the solver**\n",
    "\n",
    "Use the keywords arguments to set the desired hyperparameters. \n",
    "\n",
    "**Tip:** run `?QLearningSolver` to toggle the documentation and have a list of all the hyper-parameters and their default value."
   ]
  },
  {
   "cell_type": "code",
   "execution_count": 13,
   "metadata": {
    "collapsed": true
   },
   "outputs": [],
   "source": [
    "solver = QLearningSolver(mdp, learning_rate=0.1, n_episodes=100, max_episode_length=50, eval_every=50, n_eval_traj=100, \n",
    "                         exp_policy = EpsGreedyPolicy(mdp, 0.9));"
   ]
  },
  {
   "cell_type": "markdown",
   "metadata": {},
   "source": [
    "We are now ready to solve for the optimal policy!"
   ]
  },
  {
   "cell_type": "code",
   "execution_count": 14,
   "metadata": {},
   "outputs": [
    {
     "name": "stdout",
     "output_type": "stream",
     "text": [
      "On Iteration 50, Returns: 0.8100000000000012\n",
      "On Iteration 100, Returns: 5.904899999999999\n"
     ]
    },
    {
     "data": {
      "text/plain": [
       "POMDPToolbox.ValuePolicy{Any}(MarsExp(1.0, 10.0, 4, 0.9), [0.0 0.0; 0.997261 2.63477; … ; 5.45566 9.88027; 0.0 0.0], Any[:left, :right])"
      ]
     },
     "execution_count": 14,
     "metadata": {},
     "output_type": "execute_result"
    }
   ],
   "source": [
    "policy = solve(solver, mdp)"
   ]
  },
  {
   "cell_type": "markdown",
   "metadata": {},
   "source": [
    "## Visualize the policy"
   ]
  },
  {
   "cell_type": "markdown",
   "metadata": {},
   "source": [
    "We provided some rendering functions to visualize the policy of the exploration problem. \n",
    "\n",
    "\n",
    "*You need two packages for this: [Cairo](https://github.com/JuliaGraphics/Cairo.jl) and [Colors](https://github.com/JuliaGraphics/Colors.jl), they can be easily installed using `Pkg.add`.*"
   ]
  },
  {
   "cell_type": "code",
   "execution_count": null,
   "metadata": {},
   "outputs": [],
   "source": [
    "Pkg.add(\"Cairo\")\n",
    "Pkg.add(\"Colors\")"
   ]
  },
  {
   "cell_type": "code",
   "execution_count": 15,
   "metadata": {},
   "outputs": [
    {
     "data": {
      "text/plain": [
       "render_policy (generic function with 1 method)"
      ]
     },
     "execution_count": 15,
     "metadata": {},
     "output_type": "execute_result"
    }
   ],
   "source": [
    "include(\"render.jl\")"
   ]
  },
  {
   "cell_type": "markdown",
   "metadata": {},
   "source": [
    "The arrow represents the action to take and the number is the value associated to the state\n",
    "\n",
    "**Note:** The value of the terminal state is zero. "
   ]
  },
  {
   "cell_type": "code",
   "execution_count": 16,
   "metadata": {},
   "outputs": [
    {
     "data": {
      "image/png": "[encoded data removed]",
      "text/plain": [
       "Cairo.CairoSurface{UInt32}(Ptr{Void} @0x000000000adf5cd0, 600.0, 100.0, #undef)"
      ]
     },
     "execution_count": 16,
     "metadata": {},
     "output_type": "execute_result"
    }
   ],
   "source": [
    "render_policy(policy)"
   ]
  },
  {
   "cell_type": "markdown",
   "metadata": {},
   "source": [
    "## Evaluate the policy\n",
    "Using the simulator from POMDPToolbox you can run many simulations to evaluate the learned policy. The `RolloutSimulator` type provides a fast simulator that will return the total discounted reward."
   ]
  },
  {
   "cell_type": "code",
   "execution_count": 17,
   "metadata": {},
   "outputs": [
    {
     "data": {
      "text/plain": [
       "100"
      ]
     },
     "execution_count": 17,
     "metadata": {},
     "output_type": "execute_result"
    }
   ],
   "source": [
    "rng = MersenneTwister(9)\n",
    "sim = RolloutSimulator(rng = rng, max_steps=10);\n",
    "n_episodes = 100"
   ]
  },
  {
   "cell_type": "code",
   "execution_count": 18,
   "metadata": {},
   "outputs": [
    {
     "name": "stdout",
     "output_type": "stream",
     "text": [
      "Performance of the Q learning policy: 5.90 ± 0.00"
     ]
    }
   ],
   "source": [
    "qlearning_rewards = zeros(n_episodes)\n",
    "for ep in 1:n_episodes\n",
    "    r_tot = simulate(sim, mdp, policy)\n",
    "    qlearning_rewards[ep] = r_tot\n",
    "end\n",
    "@printf(\"Performance of the Q learning policy: %2.2f ± %2.2f\", mean(qlearning_rewards), std(qlearning_rewards))    "
   ]
  },
  {
   "cell_type": "markdown",
   "metadata": {},
   "source": [
    "Let's compare it to a random policy. "
   ]
  },
  {
   "cell_type": "code",
   "execution_count": 19,
   "metadata": {
    "collapsed": true
   },
   "outputs": [],
   "source": [
    "random_policy = RandomPolicy(mdp);"
   ]
  },
  {
   "cell_type": "code",
   "execution_count": 21,
   "metadata": {},
   "outputs": [
    {
     "name": "stdout",
     "output_type": "stream",
     "text": [
      "Performance of the random policy: 0.68 ± 1.42"
     ]
    }
   ],
   "source": [
    "random_rewards = zeros(n_episodes)\n",
    "for ep in 1:n_episodes\n",
    "    r_tot = simulate(sim, mdp, random_policy)\n",
    "    random_rewards[ep] = r_tot\n",
    "end\n",
    "@printf(\"Performance of the random policy: %2.2f ± %2.2f\", mean(random_rewards), std(random_rewards))    "
   ]
  },
  {
   "cell_type": "markdown",
   "metadata": {},
   "source": [
    "**Try the following experiments:**\n",
    "\n",
    "- Vary the discount factor and visualize the policy.\n",
    "- Change the exploration parameters in the epsilon greedy policy."
   ]
  }
 ],
 "metadata": {
  "kernelspec": {
   "display_name": "Julia 0.6.1",
   "language": "julia",
   "name": "julia-0.6"
  },
  "language_info": {
   "file_extension": ".jl",
   "mimetype": "application/julia",
   "name": "julia",
   "version": "0.6.1"
  }
 },
 "nbformat": 4,
 "nbformat_minor": 2
}
