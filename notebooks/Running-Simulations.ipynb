{
 "cells": [
  {
   "cell_type": "markdown",
   "metadata": {},
   "source": [
    "# Running Simulations\n",
    "\n",
    "All simulators in POMDPs.jl should be consistent with the [Simulation Standard](http://juliapomdp.github.io/POMDPs.jl/latest/simulation.html), and the Simulation Standard document should be consulted to answer questions about how a simulation is defined.\n",
    "\n",
    "There are several ways to perform simulations in the POMDPs.jl ecosystem. The [POMDPSimulators package](https://github.com/JuliaPOMDP/POMDPSimulators.jl) provides implementations of several simulators and [a page to help decide which to use](https://juliapomdp.github.io/POMDPSimulators.jl/latest/which.html). This tutorial will show a few examples demonstrating how to use the simulators, but the POMDPSimulators documentation serves as a more in-depth reference.\n",
    "\n",
    "## Ingredients\n",
    "\n",
    "The [Simulation Standard documentation](http://juliapomdp.github.io/POMDPs.jl/latest/simulation.html) gives information about ingredients to a simulation. The minimum requirement is for a `POMDP` or `MDP` model and a `Policy`.\n",
    "\n",
    "Models from the [POMDPModels package](https://github.com/JuliaPOMDP/POMDPModels.jl) and policies from the [POMDPPolicies package](https://github.com/JuliaPOMDP/POMDPPolicies.jl) will be used in these examples. For more information on defining models, see the tutorials about defining POMDPs and MDPs; for information on hand-specifying policies see the Heuristic Policies tutorial [TODO: add link]; and for examples of solving for policies, see the tutorials about solving POMDPs online and offline [TODO: add link]. Also consult the docstrings for the various functions used here."
   ]
  },
  {
   "cell_type": "code",
   "execution_count": 2,
   "metadata": {},
   "outputs": [
    {
     "name": "stderr",
     "output_type": "stream",
     "text": [
      "┌ Info: Recompiling stale cache file /home/zach/.julia/compiled/v1.0/POMDPs/GAotg.ji for POMDPs [a93abf59-7444-517b-a68a-c42f96afdd7d]\n",
      "└ @ Base loading.jl:1184\n",
      "┌ Info: Recompiling stale cache file /home/zach/.julia/compiled/v1.0/POMDPSimulators/i1HOp.ji for POMDPSimulators [e0d0a172-29c6-5d4e-96d0-f262df5d01fd]\n",
      "└ @ Base loading.jl:1184\n",
      "┌ Info: Recompiling stale cache file /home/zach/.julia/compiled/v1.0/POMDPModels/GHWgR.ji for POMDPModels [355abbd5-f08e-5560-ac9e-8b5f2592a0ca]\n",
      "└ @ Base loading.jl:1184\n",
      "WARNING: Method definition GridWorld(Any...) in module POMDPModels at deprecated.jl:29 overwritten at deprecated.jl:53.\n"
     ]
    }
   ],
   "source": [
    "using POMDPs\n",
    "using POMDPSimulators\n",
    "using POMDPModels\n",
    "using POMDPPolicies\n",
    "using POMDPModelTools\n",
    "using BeliefUpdaters\n",
    "using Printf\n",
    "using Random"
   ]
  },
  {
   "cell_type": "markdown",
   "metadata": {},
   "source": [
    "Below we define some problems, policies, and belief updaters that will be used in the simulations. Use [Julia's help system (type `?`)](https://docs.julialang.org/en/v1/stdlib/REPL/#Help-mode-1) to find out more by reading the docstrings."
   ]
  },
  {
   "cell_type": "code",
   "execution_count": 3,
   "metadata": {},
   "outputs": [],
   "source": [
    "tiger = TigerPOMDP()\n",
    "grid = SimpleGridWorld();\n",
    "listen = FunctionPolicy(b->TIGER_LISTEN)\n",
    "tiger_filter = DiscreteUpdater(tiger);"
   ]
  },
  {
   "cell_type": "markdown",
   "metadata": {},
   "source": [
    "## Stepthrough\n",
    "\n",
    "The recommended first way to try out POMDPs.jl simulations is with the [`stepthrough` function](https://juliapomdp.github.io/POMDPSimulators.jl/latest/stepthrough.html). This function provides a window into the simulation with a for-loop syntax.\n",
    "\n",
    "Within the body of the for loop, we have access to the belief, `b`, the action, `a`, the observation, `o`, and the reward, `r`, in each step. As more information is gathered through listening, confidence about whether the tiger is in the left or right door increases dramatically. The sum of the rewards is also calculated here, but note that this is *not the discounted reward*."
   ]
  },
  {
   "cell_type": "code",
   "execution_count": 4,
   "metadata": {},
   "outputs": [
    {
     "name": "stdout",
     "output_type": "stream",
     "text": [
      "belief that tiger is behind left door: 50.0%\n",
      "action: 0, observation: true\n",
      "belief that tiger is behind left door: 85.0%\n",
      "action: 0, observation: false\n",
      "belief that tiger is behind left door: 50.0%\n",
      "action: 0, observation: true\n",
      "belief that tiger is behind left door: 85.0%\n",
      "action: 0, observation: true\n",
      "belief that tiger is behind left door: 97.0%\n",
      "action: 0, observation: false\n",
      "rsum = -5.0\n"
     ]
    }
   ],
   "source": [
    "rsum = 0.0\n",
    "for (b,a,o,r) in stepthrough(tiger, listen, tiger_filter, \"b,a,o,r\", max_steps=5)\n",
    "    @printf(\"belief that tiger is behind left door: %4.1f%%\\n\",\n",
    "            100*pdf(b, TIGER_LEFT))\n",
    "    @printf(\"action: %s, observation: %s\\n\", a, o)\n",
    "    global rsum += r\n",
    "end\n",
    "@show rsum;"
   ]
  },
  {
   "cell_type": "markdown",
   "metadata": {},
   "source": [
    "## Rollout Simulations\n",
    "\n",
    "While `stepthrough` is a flexible and convenient tool for many user-facing demonstration, it is often less error-prone to use the standard [`simulate`](http://juliapomdp.github.io/POMDPs.jl/latest/api.html#POMDPs.simulate) function with a [`Simulator`](http://juliapomdp.github.io/POMDPs.jl/latest/concepts.html#Simulators-1) object. The simplest `Simulator` is the [`RolloutSimulator`](https://juliapomdp.github.io/POMDPSimulators.jl/latest/rollout.html#POMDPSimulators.RolloutSimulator). It simply runs a simulation as fast as possible and returns the discounted reward. Note that discounted reward for the simulation with the larger number of steps approaches the theoretical reward for a policy of always listening, $\\Sigma_{t=0}^\\infty -5 \\gamma^t$."
   ]
  },
  {
   "cell_type": "code",
   "execution_count": 5,
   "metadata": {},
   "outputs": [
    {
     "name": "stdout",
     "output_type": "stream",
     "text": [
      "short_dr = -4.524381249999999\n",
      "long_dr = -19.999999999999975\n"
     ]
    }
   ],
   "source": [
    "short = RolloutSimulator(max_steps=5)\n",
    "short_dr = simulate(short, tiger, listen)\n",
    "long = RolloutSimulator(max_steps=1_000_000)\n",
    "long_dr = simulate(long, tiger, listen)\n",
    "@show short_dr\n",
    "@show long_dr;"
   ]
  },
  {
   "cell_type": "markdown",
   "metadata": {},
   "source": [
    "## Recording Histories\n",
    "\n",
    "Sometimes it is important to record the entire history of a simulation for further examination. This can be accomplished with a [`HistoryRecorder`](https://juliapomdp.github.io/POMDPSimulators.jl/latest/history_recorder.html#POMDPSimulators.HistoryRecorder). "
   ]
  },
  {
   "cell_type": "code",
   "execution_count": 6,
   "metadata": {},
   "outputs": [],
   "source": [
    "hr = HistoryRecorder(max_steps=5)\n",
    "history = simulate(hr, tiger, listen, tiger_filter);"
   ]
  },
  {
   "cell_type": "markdown",
   "metadata": {},
   "source": [
    "### Histories\n",
    "\n",
    "The history object produced by a `HistoryRecorder` is a [`SimHistory`, documented in the POMDPSimulators package](https://juliapomdp.github.io/POMDPSimulators.jl/latest/histories.html#Histories-1). The information in this object can be accessed in several ways. For example, there is a function:"
   ]
  },
  {
   "cell_type": "code",
   "execution_count": 7,
   "metadata": {},
   "outputs": [
    {
     "data": {
      "text/plain": [
       "-4.524381249999999"
      ]
     },
     "execution_count": 7,
     "metadata": {},
     "output_type": "execute_result"
    }
   ],
   "source": [
    "discounted_reward(history)"
   ]
  },
  {
   "cell_type": "markdown",
   "metadata": {},
   "source": [
    "Accessor functions like `state_hist` and `action_hist` can be used to access parts of the history:"
   ]
  },
  {
   "cell_type": "code",
   "execution_count": 8,
   "metadata": {},
   "outputs": [
    {
     "name": "stdout",
     "output_type": "stream",
     "text": [
      "state_hist(history) = Bool[true, true, true, true, true, true]\n",
      "observation_hist(history) = Bool[true, true, true, true, false]\n"
     ]
    }
   ],
   "source": [
    "@show state_hist(history)\n",
    "@show observation_hist(history);"
   ]
  },
  {
   "cell_type": "markdown",
   "metadata": {},
   "source": [
    "However, keeping track of which states, actions, and observations belong together can be tricky (for example, since there is a starting state, and ending state, but no action is taken from the ending state, the list of actions has a different length than the list of states; Note the difference in the length of the state and observation histories above). For this reason, it is often better to think of histories in terms of *steps* that include both starting and ending states, i.e. $(s, a, r, s')$/`(s, a, r, sp)` tuples for MDPs.\n",
    "\n",
    "### `eachstep`\n",
    "\n",
    "The most powerful function for accessing the information in a `SimHistory` is the [`eachstep` function](https://juliapomdp.github.io/POMDPSimulators.jl/latest/histories.html#POMDPSimulators.eachstep) which returns an iterator through [`NamedTuple`](https://docs.julialang.org/en/v1/manual/types/index.html#Named-Tuple-Types-1)s representing each step in the history. The `eachstep` function is similar to the `stepthrough` function above except that it iterates through the immutable steps of a previously simulated history instead of conducting the simulation as the for loop is being carried out."
   ]
  },
  {
   "cell_type": "code",
   "execution_count": 9,
   "metadata": {},
   "outputs": [
    {
     "name": "stdout",
     "output_type": "stream",
     "text": [
      "belief that tiger is behind left door: 50.0%\n",
      "action: 0, observation: true\n",
      "belief that tiger is behind left door: 85.0%\n",
      "action: 0, observation: true\n",
      "belief that tiger is behind left door: 97.0%\n",
      "action: 0, observation: true\n",
      "belief that tiger is behind left door: 99.5%\n",
      "action: 0, observation: true\n",
      "belief that tiger is behind left door: 99.9%\n",
      "action: 0, observation: false\n",
      "rsum = -5.0\n"
     ]
    }
   ],
   "source": [
    "rsum = 0.0\n",
    "for (b,a,o,r) in eachstep(history, \"b,a,o,r\")\n",
    "    @printf(\"belief that tiger is behind left door: %4.1f%%\\n\",\n",
    "            100*pdf(b, TIGER_LEFT))\n",
    "    @printf(\"action: %s, observation: %s\\n\", a, o)\n",
    "    global rsum += r\n",
    "end\n",
    "@show rsum;"
   ]
  },
  {
   "cell_type": "markdown",
   "metadata": {},
   "source": [
    "Since each step returned by `eachstep` is a [`NamedTuple`](https://docs.julialang.org/en/v1/manual/types/index.html#Named-Tuple-Types-1), the elements in it can also be accessed as fields:"
   ]
  },
  {
   "cell_type": "code",
   "execution_count": 11,
   "metadata": {},
   "outputs": [
    {
     "name": "stdout",
     "output_type": "stream",
     "text": [
      "belief that tiger is behind left door: 50.0%\n",
      "action: 0, observation: true\n",
      "belief that tiger is behind left door: 85.0%\n",
      "action: 0, observation: true\n",
      "belief that tiger is behind left door: 97.0%\n",
      "action: 0, observation: true\n",
      "belief that tiger is behind left door: 99.5%\n",
      "action: 0, observation: true\n",
      "belief that tiger is behind left door: 99.9%\n",
      "action: 0, observation: false\n",
      "rsum = -5.0\n"
     ]
    }
   ],
   "source": [
    "rsum = 0.0\n",
    "for step in eachstep(history)\n",
    "    @printf(\"belief that tiger is behind left door: %4.1f%%\\n\",\n",
    "            100*pdf(step.b, TIGER_LEFT))\n",
    "    @printf(\"action: %s, observation: %s\\n\", step.a, step.o)\n",
    "    global rsum += step.r\n",
    "end\n",
    "@show rsum;"
   ]
  },
  {
   "cell_type": "markdown",
   "metadata": {},
   "source": [
    "## `sim()` [WIP]"
   ]
  },
  {
   "cell_type": "markdown",
   "metadata": {},
   "source": [
    "The [`sim` function](https://juliapomdp.github.io/POMDPSimulators.jl/latest/sim.html) provides a convenient way to interact with a `POMDP` or `MDP` environment from the perspective of an agent acting in that environment."
   ]
  },
  {
   "cell_type": "markdown",
   "metadata": {},
   "source": [
    "TODO: Add Example"
   ]
  },
  {
   "cell_type": "markdown",
   "metadata": {},
   "source": [
    "## Parallel Simulations [WIP]"
   ]
  },
  {
   "cell_type": "markdown",
   "metadata": {},
   "source": [
    "TODO: Add Documentation text"
   ]
  },
  {
   "cell_type": "code",
   "execution_count": 12,
   "metadata": {},
   "outputs": [
    {
     "name": "stderr",
     "output_type": "stream",
     "text": [
      "┌ Warning: run_parallel(...) was started with only 1 process, so simulations will be run in serial. \n",
      "│ \n",
      "│ To supress this warning, use run_parallel(..., proc_warn=false).\n",
      "│ \n",
      "│ To use multiple processes, use addprocs() or the -p option (e.g. julia -p 4).\n",
      "└ @ POMDPSimulators /home/zach/.julia/dev/POMDPSimulators/src/parallel.jl:130\n",
      "\u001b[32mSimulating...100%|██████████████████████████████████████| Time: 0:00:01\u001b[39m\n"
     ]
    },
    {
     "data": {
      "text/html": [
       "<table class=\"data-frame\"><thead><tr><th></th><th>policy</th><th>reward</th></tr></thead><tbody><tr><th>1</th><td>feed when crying</td><td>-4.5874</td></tr><tr><th>2</th><td>random</td><td>-27.4139</td></tr></tbody></table>"
      ],
      "text/plain": [
       "2×2 DataFrames.DataFrame\n",
       "│ Row │ policy           │ reward   │\n",
       "│     │ \u001b[90mString⍰\u001b[39m          │ \u001b[90mFloat64⍰\u001b[39m │\n",
       "├─────┼──────────────────┼──────────┤\n",
       "│ 1   │ feed when crying │ -4.5874  │\n",
       "│ 2   │ random           │ -27.4139 │"
      ]
     },
     "execution_count": 12,
     "metadata": {},
     "output_type": "execute_result"
    }
   ],
   "source": [
    "pomdp = BabyPOMDP()\n",
    "fwc = FeedWhenCrying()\n",
    "rnd = solve(RandomSolver(MersenneTwister(7)), pomdp)\n",
    "\n",
    "q = [] # vector of the simulations to be run\n",
    "push!(q, Sim(pomdp, fwc, max_steps=32, rng=MersenneTwister(4), metadata=Dict(:policy=>\"feed when crying\")))\n",
    "push!(q, Sim(pomdp, rnd, max_steps=32, rng=MersenneTwister(4), metadata=Dict(:policy=>\"random\")))\n",
    "\n",
    "# this creates two simulations, one with the feed-when-crying policy and one with a random policy\n",
    "\n",
    "data = run_parallel(q)"
   ]
  },
  {
   "cell_type": "code",
   "execution_count": 13,
   "metadata": {},
   "outputs": [
    {
     "name": "stdout",
     "output_type": "stream",
     "text": [
      "finished a simulation - final state was false\n"
     ]
    },
    {
     "name": "stderr",
     "output_type": "stream",
     "text": [
      "┌ Warning: run_parallel(...) was started with only 1 process, so simulations will be run in serial. \n",
      "│ \n",
      "│ To supress this warning, use run_parallel(..., proc_warn=false).\n",
      "│ \n",
      "│ To use multiple processes, use addprocs() or the -p option (e.g. julia -p 4).\n",
      "└ @ POMDPSimulators /home/zach/.julia/dev/POMDPSimulators/src/parallel.jl:130\n"
     ]
    },
    {
     "name": "stdout",
     "output_type": "stream",
     "text": [
      "finished a simulation - final state was false\n"
     ]
    },
    {
     "data": {
      "text/html": [
       "<table class=\"data-frame\"><thead><tr><th></th><th>policy</th><th>reward</th><th>steps</th></tr></thead><tbody><tr><th>1</th><td>feed when crying</td><td>-29.6987</td><td>32.0</td></tr><tr><th>2</th><td>random</td><td>-42.9168</td><td>32.0</td></tr></tbody></table>"
      ],
      "text/plain": [
       "2×3 DataFrames.DataFrame\n",
       "│ Row │ policy           │ reward   │ steps    │\n",
       "│     │ \u001b[90mString⍰\u001b[39m          │ \u001b[90mFloat64⍰\u001b[39m │ \u001b[90mFloat64⍰\u001b[39m │\n",
       "├─────┼──────────────────┼──────────┼──────────┤\n",
       "│ 1   │ feed when crying │ -29.6987 │ 32.0     │\n",
       "│ 2   │ random           │ -42.9168 │ 32.0     │"
      ]
     },
     "execution_count": 13,
     "metadata": {},
     "output_type": "execute_result"
    }
   ],
   "source": [
    "# to perform additional analysis on each of the simulations one can define a processing function with the `do` syntax:\n",
    "data2 = run_parallel(q, progress=false) do sim, hist\n",
    "    println(\"finished a simulation - final state was $(last(state_hist(hist)))\")\n",
    "    return [:steps=>n_steps(hist), :reward=>discounted_reward(hist)]\n",
    "end"
   ]
  }
 ],
 "metadata": {
  "kernelspec": {
   "display_name": "Julia 1.0.0",
   "language": "julia",
   "name": "julia-1.0"
  },
  "language_info": {
   "file_extension": ".jl",
   "mimetype": "application/julia",
   "name": "julia",
   "version": "1.0.0"
  }
 },
 "nbformat": 4,
 "nbformat_minor": 2
}
