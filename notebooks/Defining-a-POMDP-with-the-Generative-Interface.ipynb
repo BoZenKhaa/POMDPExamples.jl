{
 "cells": [
  {
   "cell_type": "markdown",
   "metadata": {},
   "source": [
    "# Defining a POMDP with the Generative Interface\n",
    "\n",
    "In this tutorial we will define a version of the Crying Baby Problem [1] with the generative interface of POMDPs.jl. To find out more about the generative interface, please see this section of the POMDPs.jl documentation: [Generative POMDP Interface](http://juliapomdp.github.io/POMDPs.jl/latest/generative.html#generative_doc-1).\n",
    "\n",
    "[1] Kochenderfer, Mykel J. Decision Making Under Uncertainty: Theory and Application. MIT Press, 2015"
   ]
  },
  {
   "cell_type": "code",
   "execution_count": 4,
   "metadata": {},
   "outputs": [],
   "source": [
    "using POMDPs\n",
    "using Random # for AbstractRNG"
   ]
  },
  {
   "cell_type": "markdown",
   "metadata": {},
   "source": [
    "## Model type\n",
    "\n",
    "We begin by implementing the type that represents the model itself. First, some notes about the Crying Baby POMDP:\n",
    "\n",
    "- The *state* is a Boolean value representing whether the baby is hungry\n",
    "- The *action* is a Boolean indicateting whether the agent is feeding the baby\n",
    "- The *observation* is a Boolean indicating whether the baby is crying\n",
    "- When the baby is hungry, it cries with a high probability and cries with a low probability when it is full\n",
    "- When the baby is fed, it immediately becomes full.\n",
    "- At each step, the baby has a small probability of becoming hungry.\n",
    "\n",
    "The `BabyPOMDP` model type is a subtype of the [`POMDP`](http://juliapomdp.github.io/POMDPs.jl/latest/api.html#POMDPs.POMDP) abstract type. `POMDP` has three parameters which indicate the types used to represent the state, action, and observation respectively, which are all `Bool` in this case. The type also includes parameters that will be used in the reward and transition definitions."
   ]
  },
  {
   "cell_type": "code",
   "execution_count": 5,
   "metadata": {},
   "outputs": [],
   "source": [
    "struct BabyPOMDP <: POMDP{Bool, Bool, Bool}\n",
    "    r_feed::Float64\n",
    "    r_hungry::Float64\n",
    "    p_become_hungry::Float64\n",
    "    p_cry_when_hungry::Float64\n",
    "    p_cry_when_not_hungry::Float64\n",
    "    discount::Float64   \n",
    "end\n",
    "\n",
    "BabyPOMDP() = BabyPOMDP(-5., -10., 0.1, 0.8, 0.1, 0.9);"
   ]
  },
  {
   "cell_type": "markdown",
   "metadata": {},
   "source": [
    "## State transitions\n",
    "\n",
    "Next we describe the *state transitions*. The [`generate_s`](http://juliapomdp.github.io/POMDPs.jl/latest/api.html#POMDPs.generate_s) function controls how the state transitions by generating a state for the next time step given the current state (`s`) and action (`a`).\n",
    "\n",
    "The `rng` argument is a random number generator that should be used to generate all random numbers within the function for the sake of reproducibility. To find out more about random number generation in POMDPs.jl, consult the documentation [TODO: add link]."
   ]
  },
  {
   "cell_type": "code",
   "execution_count": 6,
   "metadata": {},
   "outputs": [],
   "source": [
    "function POMDPs.generate_s(p::BabyPOMDP, s::Bool, a::Bool, rng::AbstractRNG)\n",
    "    if s # hungry\n",
    "        return true\n",
    "    else # not hungry\n",
    "        return rand(rng) < p.p_become_hungry ? true : false\n",
    "    end\n",
    "end"
   ]
  },
  {
   "cell_type": "code",
   "execution_count": null,
   "metadata": {},
   "outputs": [],
   "source": []
  }
 ],
 "metadata": {
  "kernelspec": {
   "display_name": "Julia 1.0.0",
   "language": "julia",
   "name": "julia-1.0"
  },
  "language_info": {
   "file_extension": ".jl",
   "mimetype": "application/julia",
   "name": "julia",
   "version": "1.0.0"
  }
 },
 "nbformat": 4,
 "nbformat_minor": 2
}
